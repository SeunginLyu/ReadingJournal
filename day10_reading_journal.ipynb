{
 "cells": [
  {
   "cell_type": "markdown",
   "metadata": {},
   "source": [
    "# Day 10 Reading Journal\n",
    "\n",
    "This journal includes several required exercises, but it is meant to encourage active reading more generally.  You should use the journal to take detailed notes, catalog questions, and explore the content from Think Python deeply.\n",
    "\n",
    "Reading: Review Think Python Chapters 15-17\n",
    "\n",
    "**Due: Thursday, February 23 at 12 noon**\n",
    "\n"
   ]
  },
  {
   "cell_type": "markdown",
   "metadata": {},
   "source": [
    "## [Chapter 15](http://www.greenteapress.com/thinkpython2/html/thinkpython2016.html), [Chapter 16](http://www.greenteapress.com/thinkpython2/html/thinkpython2017.html), [Chapter 17](http://www.greenteapress.com/thinkpython2/html/thinkpython2018.html)\n",
    "\n",
    "\n",
    "By the end of chapter 17, we have all the tools we need to create our own user-defined types known as classes. In this reading journal, we're asking you to review and solidify your understanding of this material so we can build on it for the rest of the course. \n",
    "\n",
    "If you didn't get a chance to fully complete the Day 9 reading journal, you may want to do so now."
   ]
  },
  {
   "cell_type": "markdown",
   "metadata": {
    "problem": "Terminology"
   },
   "source": [
    "### Terminology\n",
    "\n",
    "You should be familiar with the following list of terms and concepts. If any of them are unclear to you, re-read, ask, write a definition in your own words, and try an example if appropriate.\n",
    "\n",
    " - class\n",
    " - object\n",
    " - instance\n",
    " - attribute\n",
    " - method\n",
    " - shallow vs deep copying\n",
    " - pure functions vs modifiers\n",
    " - initializing object instances\n",
    " "
   ]
  },
  {
   "cell_type": "markdown",
   "metadata": {
    "is_question": true,
    "problem": "Exercise 1"
   },
   "source": [
    "### Exercise\n",
    "\n",
    "We're going to take the first steps toward writing a calendar application. To keep things simple, we'll restrict ourselves to a single day for now. Write an `Event` class with the following attributes:\n",
    "\n",
    " - `name`  : Title for the `Event`\n",
    " - `start` : `Time` object representing the start time for the `Event`\n",
    " - `end`   : `Time` object representing the end time for the `Event`\n",
    "\n",
    "You can also augment your `Event` class with additional attributes, such as location and attendees.\n",
    "\n",
    "Write `__init__` and `__str__` methods for your `Event` class."
   ]
  },
  {
   "cell_type": "code",
   "execution_count": 16,
   "metadata": {
    "collapsed": false,
    "solution": "Exercise 1"
   },
   "outputs": [
    {
     "name": "stdout",
     "output_type": "stream",
     "text": [
      "Exam Starts at 08:08:08, Ends at 09:09:09\n"
     ]
    }
   ],
   "source": [
    "class Event:\n",
    "    def __init__(self, name, start, end):\n",
    "        self.name = name\n",
    "        self.start = start\n",
    "        self.end = end\n",
    "    def __str__(self):\n",
    "        return \"%s Starts at %s, Ends at %s\" %(self.name, self.start, self.end)\n",
    "\n",
    "    \n",
    "class Time:\n",
    "    def __str__(self):\n",
    "        return (\"%.2d:%.2d:%.2d\" %(self.hour, self.minute, self.second))\n",
    "\n",
    "time1 = Time()\n",
    "time1.hour = 8\n",
    "time1.minute = 8\n",
    "time1.second = 8\n",
    "\n",
    "time2 = Time()\n",
    "time2.hour = 9\n",
    "time2.minute = 9\n",
    "time2.second = 9\n",
    "\n",
    "x = Event('Exam', time1, time2)\n",
    "print(x)"
   ]
  },
  {
   "cell_type": "markdown",
   "metadata": {
    "is_question": true,
    "problem": "Exercise 2"
   },
   "source": [
    "### Exercise\n",
    "\n",
    "Write a `duration` method that returns the duration of the `Event` in minutes."
   ]
  },
  {
   "cell_type": "code",
   "execution_count": 23,
   "metadata": {
    "collapsed": false,
    "solution": "Exercise 2"
   },
   "outputs": [
    {
     "name": "stdout",
     "output_type": "stream",
     "text": [
      "Exam Starts at 08:08:08, Ends at 09:09:09\n",
      "Duration :  61.01666666666665\n"
     ]
    }
   ],
   "source": [
    "class Event:\n",
    "    def __init__(self, name, start, end):\n",
    "        self.name = name\n",
    "        self.start = start\n",
    "        self.end = end\n",
    "    def __str__(self):\n",
    "        return \"%s Starts at %s, Ends at %s\" %(self.name, self.start, self.end)\n",
    "    def duration(self):\n",
    "        start_in_min = self.start.hour * 60 + self.start.minute + self.start.second / 60\n",
    "        end_in_min = self.end.hour * 60 + self.end.minute + self.end.second / 60\n",
    "        return end_in_min - start_in_min\n",
    "\n",
    "    \n",
    "class Time:\n",
    "    def __str__(self):\n",
    "        return (\"%.2d:%.2d:%.2d\" %(self.hour, self.minute, self.second))\n",
    "\n",
    "time1 = Time()\n",
    "time1.hour = 8\n",
    "time1.minute = 8\n",
    "time1.second = 8\n",
    "\n",
    "time2 = Time()\n",
    "time2.hour = 9\n",
    "time2.minute = 9\n",
    "time2.second = 9\n",
    "\n",
    "x = Event('Exam', time1, time2)\n",
    "print(x)\n",
    "print('Duration : ', x.duration())"
   ]
  },
  {
   "cell_type": "markdown",
   "metadata": {
    "is_question": true,
    "problem": "Exercise 3"
   },
   "source": [
    "### Exercise\n",
    "\n",
    "Write an `Agenda` class that contains several `Event`s for the day.\n",
    "\n",
    "**Quick check: ** How should you store `Event`s within your `Agenda` class?\n"
   ]
  },
  {
   "cell_type": "markdown",
   "metadata": {},
   "source": [
    "I can use a list of Event object as an attribute of Agenda Class."
   ]
  },
  {
   "cell_type": "markdown",
   "metadata": {},
   "source": [
    " "
   ]
  },
  {
   "cell_type": "code",
   "execution_count": 33,
   "metadata": {
    "collapsed": false
   },
   "outputs": [
    {
     "name": "stdout",
     "output_type": "stream",
     "text": [
      "Exam Starts at 08:08:08, Ends at 09:09:09\n",
      "Exam2 Starts at 10:10:10, Ends at 11:11:11\n"
     ]
    }
   ],
   "source": [
    "class Event:\n",
    "    def __init__(self, name, start, end):\n",
    "        self.name = name\n",
    "        self.start = start\n",
    "        self.end = end\n",
    "    def __str__(self):\n",
    "        return \"%s Starts at %s, Ends at %s\" %(self.name, self.start, self.end)\n",
    "    def __repr__(self):\n",
    "        return self.name\n",
    "    def duration(self):\n",
    "        start_in_min = self.start.hour * 60 + self.start.minute + self.start.second / 60\n",
    "        end_in_min = self.end.hour * 60 + self.end.minute + self.end.second / 60\n",
    "        return end_in_min - start_in_min\n",
    "    \n",
    "\n",
    "class Time:\n",
    "    def __str__(self):\n",
    "        return (\"%.2d:%.2d:%.2d\" %(self.hour, self.minute, self.second))\n",
    "    def __gt__(self, other):\n",
    "        return (self.hour*3600+self.minute*60+self.second) - (other.hour*3600+other.minute*60+other.second) > 0\n",
    "    def __lt__(self, other):\n",
    "        return (self.hour*3600+self.minute*60+self.second) - (other.hour*3600+other.minute*60+other.second) < 0\n",
    "    def __le__(self, other):\n",
    "        return (self.hour*3600+self.minute*60+self.second) - (other.hour*3600+other.minute*60+other.second) >= 0\n",
    "    def __ge__(self, other):\n",
    "        return (self.hour*3600+self.minute*60+self.second) - (other.hour*3600+other.minute*60+other.second) <= 0\n",
    "    def __eq__(self, other):\n",
    "        return (self.hour*3600+self.minute*60+self.second) - (other.hour*3600+other.minute*60+other.second) == 0\n",
    "    def __ne__(self, other):\n",
    "        return (self.hour*3600+self.minute*60+self.second) - (other.hour*3600+other.minute*60+other.second) != 0\n",
    "\n",
    "\n",
    "class Agenda:\n",
    "    def __init__(self, events):\n",
    "        self.events = events\n",
    "    \n",
    "    def add_event(self,event):\n",
    "        self.events.append(event)\n",
    "    def print_agenda(self):\n",
    "        sorted_events = sorted(self.events, key=lambda event:event.start)\n",
    "        for event in sorted_events:\n",
    "            print(event)\n",
    "        \n",
    "        \n",
    "time1 = Time()\n",
    "time1.hour = 8\n",
    "time1.minute = 8\n",
    "time1.second = 8\n",
    "\n",
    "time2 = Time()\n",
    "time2.hour = 9\n",
    "time2.minute = 9\n",
    "time2.second = 9\n",
    "\n",
    "time3 = Time()\n",
    "time3.hour = 10\n",
    "time3.minute = 10\n",
    "time3.second = 10\n",
    "\n",
    "time4 = Time()\n",
    "time4.hour = 11\n",
    "time4.minute = 11\n",
    "time4.second = 11\n",
    "\n",
    "x = Event('Exam', time1, time2)\n",
    "y = Event('Exam2', time3, time4)\n",
    "\n",
    "z = Agenda([y,x])\n",
    "z.print_agenda()\n",
    "\n",
    "\n"
   ]
  },
  {
   "cell_type": "markdown",
   "metadata": {},
   "source": [
    "Your `Agenda` class should include a `print_agenda` method that prints out your schedule for the day, in order.\n",
    "\n",
    "**Optional:** Include a `is_feasible` method that returns `True` if your schedule has no time conflicts. You may want to write additional helper methods for the `Event` class to make this easier."
   ]
  },
  {
   "cell_type": "code",
   "execution_count": 65,
   "metadata": {
    "collapsed": false,
    "solution": "Exercise 3"
   },
   "outputs": [
    {
     "name": "stdout",
     "output_type": "stream",
     "text": [
      "Exam Starts at 08:08:08, Ends at 09:09:09\n",
      "Exam2 Starts at 09:10:10, Ends at 11:11:11\n",
      "True\n",
      "True\n",
      "False\n"
     ]
    }
   ],
   "source": [
    "class Event:\n",
    "    def __init__(self, name, start, end):\n",
    "        self.name = name\n",
    "        self.start = start\n",
    "        self.end = end\n",
    "    def __str__(self):\n",
    "        return \"%s Starts at %s, Ends at %s\" %(self.name, self.start, self.end)\n",
    "    def __repr__(self):\n",
    "        return self.name\n",
    "    def duration(self):\n",
    "        start_in_min = self.start.hour * 60 + self.start.minute + self.start.second / 60\n",
    "        end_in_min = self.end.hour * 60 + self.end.minute + self.end.second / 60\n",
    "        return end_in_min - start_in_min\n",
    "    def is_after(self, other):\n",
    "        if (self.start > other.end) and (self.start > other.start):\n",
    "            return True\n",
    "        else:\n",
    "            return False\n",
    "    \n",
    "\n",
    "class Time:\n",
    "    def __str__(self):\n",
    "        return (\"%.2d:%.2d:%.2d\" %(self.hour, self.minute, self.second))\n",
    "    def __gt__(self, other):\n",
    "        return (self.hour*3600+self.minute*60+self.second) - (other.hour*3600+other.minute*60+other.second) > 0\n",
    "    def __lt__(self, other):\n",
    "        return (self.hour*3600+self.minute*60+self.second) - (other.hour*3600+other.minute*60+other.second) < 0\n",
    "    def __le__(self, other):\n",
    "        return (self.hour*3600+self.minute*60+self.second) - (other.hour*3600+other.minute*60+other.second) >= 0\n",
    "    def __ge__(self, other):\n",
    "        return (self.hour*3600+self.minute*60+self.second) - (other.hour*3600+other.minute*60+other.second) <= 0\n",
    "    def __eq__(self, other):\n",
    "        return (self.hour*3600+self.minute*60+self.second) - (other.hour*3600+other.minute*60+other.second) == 0\n",
    "    def __ne__(self, other):\n",
    "        return (self.hour*3600+self.minute*60+self.second) - (other.hour*3600+other.minute*60+other.second) != 0\n",
    "\n",
    "\n",
    "class Agenda:\n",
    "    def __init__(self, events):\n",
    "        self.events = events\n",
    "    \n",
    "    def add_event(self,event):\n",
    "        self.events.append(event)\n",
    "    def print_agenda(self):\n",
    "        sorted_events = sorted(self.events, key=lambda event:event.start)\n",
    "        for event in sorted_events:\n",
    "            print(event)\n",
    "    def is_feasible(self):\n",
    "        flag = True\n",
    "        for i in range(len(self.events)-1):\n",
    "            for j in range(i+1,len(self.events)-1):\n",
    "                if not self.events[j].is_after(self.events[i]):\n",
    "                    flag = False\n",
    "        return flag\n",
    "        \n",
    "time1 = Time()\n",
    "time1.hour = 8\n",
    "time1.minute = 8\n",
    "time1.second = 8\n",
    "\n",
    "time2 = Time()\n",
    "time2.hour = 9\n",
    "time2.minute = 9\n",
    "time2.second = 9\n",
    "\n",
    "time3 = Time()\n",
    "time3.hour = 9\n",
    "time3.minute = 10\n",
    "time3.second = 10\n",
    "\n",
    "time4 = Time()\n",
    "time4.hour = 11\n",
    "time4.minute = 11\n",
    "time4.second = 11\n",
    "\n",
    "x = Event('Exam', time1, time2)\n",
    "y = Event('Exam2', time3, time4)\n",
    "z = Agenda([y,x])\n",
    "z.print_agenda()\n",
    "print(y.is_after(x))\n",
    "print(z.is_feasible())\n",
    "z.add_event(x)\n",
    "print(z.is_feasible())"
   ]
  },
  {
   "cell_type": "markdown",
   "metadata": {
    "is_question": true,
    "problem": "Exercise 4"
   },
   "source": [
    "### Going Beyond (optional)\n",
    "\n",
    "Some ideas for taking your application further:\n",
    " - Add people and/or places to the mix to create a scheduling assistant\n",
    " - Extend support for day-of-week or full date. A word of warning: dealing with dates and times in real applications is difficult due to the huge number of special cases (Perfect example: this reading journal is due on Leap Day). Consider using something like the Python [datetime](https://docs.python.org/3/library/datetime.html) module.\n",
    " - Use pickle or some other persistence strategy to save and load your `Agenda`."
   ]
  },
  {
   "cell_type": "code",
   "execution_count": null,
   "metadata": {
    "collapsed": true,
    "solution": "Exercise 4"
   },
   "outputs": [],
   "source": []
  },
  {
   "cell_type": "markdown",
   "metadata": {
    "poll_response": true,
    "solution": "Time spent"
   },
   "source": [
    " "
   ]
  },
  {
   "cell_type": "markdown",
   "metadata": {
    "is_question": true,
    "problem": "Feedback"
   },
   "source": [
    "## Reading Journal feedback\n",
    "\n",
    "[Please complete this short survey](https://docs.google.com/forms/d/e/1FAIpQLScQekhUrf6YYjpfQiAAbavLIA-IJklv_PX1BWbGgxj7JPolmw/viewform?c=0&w=1)\n",
    "\n",
    "If you have any comments on this Reading Journal, feel free to leave them in the survey linked above. This could include suggestions to improve the exercises, topics you'd like to see covered in class next time, or other feedback.\n",
    "\n",
    "If you have Python questions or run into problems while completing the reading, you should post them to Piazza instead so you can get a quick response before your journal is submitted."
   ]
  },
  {
   "cell_type": "markdown",
   "metadata": {
    "feedback_response": true,
    "solution": "Feedback"
   },
   "source": [
    " "
   ]
  }
 ],
 "metadata": {
  "kernelspec": {
   "display_name": "Python 3",
   "language": "python",
   "name": "python3"
  },
  "language_info": {
   "codemirror_mode": {
    "name": "ipython",
    "version": 3
   },
   "file_extension": ".py",
   "mimetype": "text/x-python",
   "name": "python",
   "nbconvert_exporter": "python",
   "pygments_lexer": "ipython3",
   "version": "3.5.2"
  }
 },
 "nbformat": 4,
 "nbformat_minor": 0
}
