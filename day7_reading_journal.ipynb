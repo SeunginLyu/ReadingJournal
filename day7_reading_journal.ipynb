{
 "cells": [
  {
   "cell_type": "markdown",
   "metadata": {},
   "source": [
    "# Day 7 Reading Journal\n",
    "\n",
    "This journal includes several required exercises, but it is meant to encourage active reading more generally.  You should use the journal to take detailed notes, catalog questions, and explore the content from Think Python deeply.\n",
    "\n",
    "Reading: Think Python Chapter 11, 12\n",
    "\n",
    "**Due: Monday, February 13 at 12 noon**\n",
    "\n"
   ]
  },
  {
   "cell_type": "markdown",
   "metadata": {},
   "source": [
    "## [Chapter 11](http://www.greenteapress.com/thinkpython/html/thinkpython012.html)\n"
   ]
  },
  {
   "cell_type": "markdown",
   "metadata": {},
   "source": [
    "**Quick check:** In about one sentence using your own words, what is a dictionary?"
   ]
  },
  {
   "cell_type": "markdown",
   "metadata": {},
   "source": [
    "A dictionary is a data strucutre that maps a unique key to each value(s) where the key is immutable. "
   ]
  },
  {
   "cell_type": "markdown",
   "metadata": {},
   "source": [
    " "
   ]
  },
  {
   "cell_type": "markdown",
   "metadata": {
    "is_question": true,
    "problem": "Exercise 11.2"
   },
   "source": [
    "### Exercise 11.2  \n",
    "\n",
    "Dictionaries have a method called [`get`](https://docs.python.org/3/library/stdtypes.html#mapping-types-dict) that takes a key and a default value. If the key appears in the dictionary, `get` returns the corresponding value; otherwise it returns the default value. For example:\n",
    "\n",
    "```\n",
    ">>> h = histogram('a')\n",
    ">>> print h\n",
    "{'a': 1}\n",
    ">>> h.get('a', 0)\n",
    "1\n",
    ">>> h.get('b', 0)\n",
    "0\n",
    "```\n",
    "\n",
    "Use `get` to write `histogram` more concisely. You should be able to eliminate the `if` statement. Add unit tests for your histogram implementation."
   ]
  },
  {
   "cell_type": "code",
   "execution_count": 32,
   "metadata": {
    "collapsed": false,
    "solution": "Exercise 11.2"
   },
   "outputs": [
    {
     "name": "stdout",
     "output_type": "stream",
     "text": [
      "Finding tests in NoName\n",
      "Trying:\n",
      "    histogram('aaaaaaaa')\n",
      "Expecting:\n",
      "    {'a': 8}\n",
      "ok\n",
      "Trying:\n",
      "    {'a': 1, 'b': 1, 'c': 1, 'd': 1, 'e': 1, 'f': 1} == histogram('abcdef')\n",
      "Expecting:\n",
      "    True\n",
      "ok\n",
      "Trying:\n",
      "    pprint.pprint(histogram('abcdef'))  #pprint sorts the dictionary for us\n",
      "Expecting:\n",
      "    {'a': 1, 'b': 1, 'c': 1, 'd': 1, 'e': 1, 'f': 1}\n",
      "ok\n"
     ]
    }
   ],
   "source": [
    "import pprint\n",
    "import doctest\n",
    "\n",
    "def histogram(s):\n",
    "    \"\"\"\n",
    "    Precondition : string s\n",
    "    Postcondition : Returns a dictionary of characters and frequencies.\n",
    "    \n",
    "    >>> histogram('aaaaaaaa')\n",
    "    {'a': 8}\n",
    "    \n",
    "    >>> {'a': 1, 'b': 1, 'c': 1, 'd': 1, 'e': 1, 'f': 1} == histogram('abcdef')\n",
    "    True\n",
    "    \n",
    "    >>> pprint.pprint(histogram('abcdef'))  #pprint sorts the dictionary for us\n",
    "    {'a': 1, 'b': 1, 'c': 1, 'd': 1, 'e': 1, 'f': 1}\n",
    "    \"\"\"\n",
    "    d = dict()\n",
    "    for c in s:\n",
    "        d[c] = d.get(c,0)+1\n",
    "    return d\n",
    "\n",
    "\n",
    "doctest.run_docstring_examples(histogram, globals(),verbose=True)"
   ]
  },
  {
   "cell_type": "markdown",
   "metadata": {},
   "source": [
    " "
   ]
  },
  {
   "cell_type": "markdown",
   "metadata": {
    "is_question": true,
    "problem": "Exercise 11.4"
   },
   "source": [
    "### Exercise 11.4  \n",
    "\n",
    "Modify `reverse_lookup` so that it builds and returns a list of all keys that map to `v`, or an empty list if there are none. Add unit tests for your implementation."
   ]
  },
  {
   "cell_type": "code",
   "execution_count": 51,
   "metadata": {
    "collapsed": false,
    "scrolled": true,
    "solution": "Exercise 11.4"
   },
   "outputs": [
    {
     "name": "stdout",
     "output_type": "stream",
     "text": [
      "Finding tests in NoName\n",
      "Trying:\n",
      "    reverse_lookup({'a': 1, 'b': 1, 'c': 1}, 1)\n",
      "Expecting:\n",
      "    ['a', 'b', 'c']\n",
      "ok\n",
      "Trying:\n",
      "    reverse_lookup({'a': 1, 'b': 1, 'c': 1}, 2)\n",
      "Expecting:\n",
      "    []\n",
      "ok\n"
     ]
    }
   ],
   "source": [
    "import doctest\n",
    "\n",
    "def reverse_lookup(d, v):\n",
    "    \"\"\"\n",
    "    Precondition: dictionary d, and value v\n",
    "    Postcondition: Returns a list of all keys that maps to v\n",
    "    \n",
    "    >>> reverse_lookup({'a': 1, 'b': 1, 'c': 1}, 1)\n",
    "    ['a', 'b', 'c']\n",
    "    \n",
    "    >>> reverse_lookup({'a': 1, 'b': 1, 'c': 1}, 2)\n",
    "    []\n",
    "    \n",
    "    \"\"\"\n",
    "    all_keys = [] \n",
    "    for k in d:\n",
    "        if d[k] == v:\n",
    "            all_keys.append(k)\n",
    "    all_keys.sort()\n",
    "    return all_keys\n",
    "    raise ValueError\n",
    "    \n",
    "doctest.run_docstring_examples(reverse_lookup, globals(),verbose=True)"
   ]
  },
  {
   "cell_type": "markdown",
   "metadata": {},
   "source": [
    "If you'd like to learn more about errors and exceptions, you can check out the [Python tutorial](https://docs.python.org/3/tutorial/errors.html) or read ahead to [Appendix A](http://www.greenteapress.com/thinkpython2/html/thinkpython2021.html) of Think Python. If you choose to use doctest for your unit testing, it can also [deal with exceptions](https://docs.python.org/3/library/doctest.html#what-about-exceptions)."
   ]
  },
  {
   "cell_type": "markdown",
   "metadata": {},
   "source": [
    " "
   ]
  },
  {
   "cell_type": "markdown",
   "metadata": {},
   "source": [
    "**Quick check** What type of objects can be used as keys to a dictionary, i.e. what property must they have?"
   ]
  },
  {
   "cell_type": "markdown",
   "metadata": {},
   "source": [
    "only immutable objects like integers and strings can be used(i.e. they have to be hashble). Lists can't be used because they mutable."
   ]
  },
  {
   "cell_type": "markdown",
   "metadata": {},
   "source": [
    " "
   ]
  },
  {
   "cell_type": "markdown",
   "metadata": {
    "is_question": true,
    "problem": "Exercise 11.6"
   },
   "source": [
    "### Exercise 11.6 (modified)\n",
    "\n",
    "Create a memoized version of your Levenshtein distance function from Day 7. What kind of performance change do you see?\n",
    "\n",
    "Optional: If you'd like to get some quantitative results, you could check out the [timeit](https://docs.python.org/3/library/timeit.html) module\n",
    "\n",
    "Note: You can also study Fibonacci here if you prefer."
   ]
  },
  {
   "cell_type": "code",
   "execution_count": 95,
   "metadata": {
    "collapsed": false,
    "solution": "Exercise 11.6"
   },
   "outputs": [
    {
     "name": "stdout",
     "output_type": "stream",
     "text": [
      "lavenshtein distnace :  6\n",
      "Time Elapsed :  0.21827613599998585 sec\n",
      "Total Recursive Calls :  398593\n"
     ]
    }
   ],
   "source": [
    "# my function from day 7 (no memoization)\n",
    "from timeit import default_timer as timer\n",
    "\n",
    "def lavenshtein_distance(str1, str2):\n",
    "    global count\n",
    "    count += 1  # counts total number of recursive calls\n",
    "    \n",
    "    cost = 0\n",
    "\n",
    "    if(len(str1) == 0):\n",
    "        return len(str2)\n",
    "    if(len(str2) == 0):\n",
    "        return len(str1)\n",
    "\n",
    "    if(str1[-1] == str2[-1]):\n",
    "        cost = 0\n",
    "    else:\n",
    "        cost = 1\n",
    "\n",
    "    # minimum of delete from str1, str2, or from both.\n",
    "    return min(lavenshtein_distance(str1[:-1], str2)+1,\n",
    "               lavenshtein_distance(str1, str2[:-1])+1,\n",
    "               lavenshtein_distance(str1[:-1], str2[:-1])+cost)\n",
    "\n",
    "count = 0  # using it as a global variable\n",
    "start = timer()\n",
    "print('lavenshtein distnace : ', lavenshtein_distance('abcdefga', 'gfedcbaa'))\n",
    "end = timer()\n",
    "print('Time Elapsed : ', end - start, 'sec')\n",
    "print('Total Recursive Calls : ', count)"
   ]
  },
  {
   "cell_type": "markdown",
   "metadata": {},
   "source": [
    " "
   ]
  },
  {
   "cell_type": "code",
   "execution_count": 119,
   "metadata": {
    "collapsed": false,
    "scrolled": false
   },
   "outputs": [
    {
     "name": "stdout",
     "output_type": "stream",
     "text": [
      "lavenshtein distnace :  6\n",
      "Time Elapsed :  0.0006069760001992108 sec\n",
      "Total Recursive Calls :  193\n"
     ]
    }
   ],
   "source": [
    "# added memoization\n",
    "\n",
    "from timeit import default_timer as timer\n",
    "\n",
    "def lavenshtein_distance(str1, str2):\n",
    "    global count\n",
    "    count += 1  # counts total number of recursive calls\n",
    "    cost = 0\n",
    "    \n",
    "    if(len(str1) == 0):\n",
    "        memo[(str1,str2)] = len(str2) #indexing using tuples\n",
    "        return len(str2)\n",
    "    if(len(str2) == 0):\n",
    "        memo[(str1,str2)] = len(str1)\n",
    "        return len(str1)\n",
    "\n",
    "    if(str1[-1] == str2[-1]):\n",
    "        cost = 0\n",
    "    else:\n",
    "        cost = 1\n",
    "\n",
    "    if((str1,str2) in memo):\n",
    "        return memo[(str1,str2)]\n",
    "    else:\n",
    "        # minimum of delete from str1, str2, or from both.\n",
    "        memo[(str1,str2)] = min(lavenshtein_distance(str1[:-1], str2)+1,\n",
    "                   lavenshtein_distance(str1, str2[:-1])+1,\n",
    "                   lavenshtein_distance(str1[:-1], str2[:-1])+cost)\n",
    "        return memo[(str1,str2)]\n",
    "\n",
    "count = 0  # using it as a global variable\n",
    "memo = {}\n",
    "start = timer()\n",
    "print('lavenshtein distnace : ', lavenshtein_distance('abcdefga', 'gfedcbaa'))\n",
    "end = timer()\n",
    "print('Time Elapsed : ', end - start, 'sec')\n",
    "print('Total Recursive Calls : ', count)"
   ]
  },
  {
   "cell_type": "markdown",
   "metadata": {},
   "source": [
    "We observe that the number of recursive calls has siginficantly decreased from 398593 to 193 for the same task! And the time elpased has also significantly decreased from 0.22 sec to 0.0006 sec. This is a siginficant increase in the program efficiency!"
   ]
  },
  {
   "cell_type": "markdown",
   "metadata": {},
   "source": [
    "## [Chapter 12](http://www.greenteapress.com/thinkpython2/html/thinkpython2013.html)\n",
    "\n",
    "**Quick check:** In about one sentence using your own words, what is a tuple?"
   ]
  },
  {
   "cell_type": "markdown",
   "metadata": {},
   "source": [
    "It's a immutable sequence of things"
   ]
  },
  {
   "cell_type": "markdown",
   "metadata": {},
   "source": [
    " "
   ]
  },
  {
   "cell_type": "markdown",
   "metadata": {
    "is_question": true,
    "problem": "Exercise 12.1"
   },
   "source": [
    "### Chapter 12.4  \n",
    "\n",
    "Many of the built-in functions use variable-length argument tuples. For example, `max` and `min` can take any number of arguments:\n",
    "\n",
    "```\n",
    ">>> max(1,2,3)\n",
    "3\n",
    "```\n",
    "\n",
    "But `sum` does not.\n",
    "\n",
    "```\n",
    ">>> sum(1,2,3)\n",
    "TypeError: sum expected at most 2 arguments, got 3\n",
    "```\n",
    "\n",
    "Write a function called ```sumall``` that takes any number of arguments and returns their sum. \n",
    "\n",
    "Write unit tests for your function. Do I actually need to keep saying this? Let's assume it's always a good idea :)"
   ]
  },
  {
   "cell_type": "code",
   "execution_count": 12,
   "metadata": {
    "collapsed": false,
    "solution": "Exercise 12.1"
   },
   "outputs": [
    {
     "name": "stdout",
     "output_type": "stream",
     "text": [
      "Finding tests in NoName\n",
      "Trying:\n",
      "    sumall(1,2,3)\n",
      "Expecting:\n",
      "    6\n",
      "ok\n",
      "Trying:\n",
      "    sumall(1,2,3,4,5)\n",
      "Expecting:\n",
      "    15\n",
      "ok\n",
      "Trying:\n",
      "    sumall(0,0,0,0)\n",
      "Expecting:\n",
      "    0\n",
      "ok\n"
     ]
    }
   ],
   "source": [
    "import doctest\n",
    "\n",
    "def sumall(*args):\n",
    "    \"\"\"\n",
    "    Precondition : any number of arguments a,b,c,...\n",
    "    Postcondition : Return sum of arguments a,b,c,...\n",
    "    \n",
    "    >>> sumall(1,2,3)\n",
    "    6\n",
    "    \n",
    "    >>> sumall(1,2,3,4,5)\n",
    "    15\n",
    "    \n",
    "    >>> sumall(0,0,0,0)\n",
    "    0\n",
    "    \n",
    "    \"\"\"\n",
    "    sum = 0\n",
    "    for value in args:\n",
    "        sum += value\n",
    "    return sum\n",
    "    \n",
    "    \n",
    "doctest.run_docstring_examples(sumall, globals(),verbose=True)"
   ]
  },
  {
   "cell_type": "markdown",
   "metadata": {},
   "source": [
    "If you're interested in more flexible ways to pass arguments to functions, check out the [Python tutorial](https://docs.python.org/3/tutorial/controlflow.html#more-on-defining-functions). For instance, you can also use keyword arguments, which are collected into a dictionary just like `*` gathers variable numbers of positional arguments into a tuple.\n",
    "\n",
    "This pattern is very common for defining functions with complex optional behaviors in Python, and you will often see definitions like:\n",
    "\n",
    "```\n",
    "def my_func(required_argument1, *arguments, **keywords):\n",
    "    ...\n",
    "```"
   ]
  },
  {
   "cell_type": "markdown",
   "metadata": {},
   "source": [
    " "
   ]
  },
  {
   "cell_type": "markdown",
   "metadata": {
    "is_question": true,
    "problem": "Exercise 12 sort"
   },
   "source": [
    "### Exercise\n",
    "\n",
    "Write a function `sort_by_last_letter` that takes a list of words and returns a new list with the words sorted alphabetically by the _last letter_ in the word. Hint: use the **Decorate, Sort, Undecorate** pattern. Write unit tests for your function."
   ]
  },
  {
   "cell_type": "code",
   "execution_count": 31,
   "metadata": {
    "collapsed": false,
    "solution": "Exercise 12 sort"
   },
   "outputs": [
    {
     "name": "stdout",
     "output_type": "stream",
     "text": [
      "Finding tests in NoName\n",
      "Trying:\n",
      "    sort_by_last_letter(['abcd','abc','abbb','a'])\n",
      "Expecting:\n",
      "    ['a', 'abbb', 'abc', 'abcd']\n",
      "ok\n",
      "Trying:\n",
      "    sort_by_last_letter(['aaad','aaac','aacd','ab'])\n",
      "Expecting:\n",
      "    ['ab', 'aaac', 'aaad', 'aacd']\n",
      "ok\n"
     ]
    }
   ],
   "source": [
    "import doctest\n",
    "\n",
    "\n",
    "def sort_by_last_letter(words):\n",
    "    \"\"\"\n",
    "    Precondition : list of words\n",
    "    Postcondition : a new list of words sorted alphabetically by the last letter\n",
    "    \n",
    "    >>> sort_by_last_letter(['abcd','abc','abbb','a'])\n",
    "    ['a', 'abbb', 'abc', 'abcd']\n",
    "    \n",
    "    >>> sort_by_last_letter(['aaad','aaac','aacd','ab'])\n",
    "    ['ab', 'aaac', 'aaad', 'aacd']\n",
    "    \"\"\"\n",
    "    new_words = []\n",
    "    for word in words:\n",
    "        new_words.append(word[::-1])\n",
    "    new_words.sort()\n",
    "    for i, word in enumerate(new_words):\n",
    "        new_words[i] = word[::-1]\n",
    "    return new_words\n",
    "\n",
    "doctest.run_docstring_examples(sort_by_last_letter, globals(),verbose=True)"
   ]
  },
  {
   "cell_type": "markdown",
   "metadata": {},
   "source": [
    " "
   ]
  },
  {
   "cell_type": "markdown",
   "metadata": {},
   "source": [
    "**Quick check** Give an example of when you might use each sequence type:\n",
    "\n",
    "- tuple\n",
    "\n",
    "- list\n",
    "\n",
    "- string"
   ]
  },
  {
   "cell_type": "markdown",
   "metadata": {},
   "source": [
    "1) Tuple : I would use it when I want to pass multiple variables to a function or return many numbers from a function(using gather and scatter). Also it can be used as keys for dictionaries.\n",
    "\n",
    "2) List : I would use it when for bascially any sequences except for cases when I must use tuple (dictionary). \n",
    "\n",
    "3) String : I would use it for a sequence of characters that doesn't necessarily need to be mutable."
   ]
  },
  {
   "cell_type": "markdown",
   "metadata": {},
   "source": [
    " "
   ]
  },
  {
   "cell_type": "markdown",
   "metadata": {
    "is_question": true,
    "problem": "Exercise 12.3"
   },
   "source": [
    "### Exercise 12.1 \n",
    "\n",
    "Write a function called `most_frequent` that takes a string and prints the letters in decreasing order of frequency. Find text samples from several different languages and see how letter frequency varies between languages. Compare your results with the tables at http://en.wikipedia.org/wiki/Letter_frequencies. \n",
    "\n",
    "Allen's solution (try it on your own first): http://greenteapress.com/thinkpython2/code/most_frequent.py. "
   ]
  },
  {
   "cell_type": "code",
   "execution_count": 56,
   "metadata": {
    "collapsed": false,
    "solution": "Exercise 12.3"
   },
   "outputs": [
    {
     "name": "stdout",
     "output_type": "stream",
     "text": [
      "Finding tests in NoName\n",
      "Trying:\n",
      "    most_frequent('aaaabbbccd')\n",
      "Expecting:\n",
      "    a\n",
      "    b\n",
      "    c\n",
      "    d\n",
      "ok\n",
      "Trying:\n",
      "    most_frequent('greenteapress')\n",
      "Expecting:\n",
      "    e\n",
      "    s\n",
      "    r\n",
      "    t\n",
      "    p\n",
      "    n\n",
      "    g\n",
      "    a\n",
      "ok\n"
     ]
    }
   ],
   "source": [
    "import doctest\n",
    "\n",
    "def most_frequent(s):\n",
    "    \"\"\"\n",
    "    Precondition : string s\n",
    "    Postcondition : prints the letters in s in decreasing order of frequency\n",
    "    \n",
    "    >>> most_frequent('aaaabbbccd')\n",
    "    a\n",
    "    b\n",
    "    c\n",
    "    d\n",
    "    \n",
    "    >>> most_frequent('greenteapress')\n",
    "    e\n",
    "    s\n",
    "    r\n",
    "    t\n",
    "    p\n",
    "    n\n",
    "    g\n",
    "    a\n",
    "    \n",
    "    \"\"\"\n",
    "    s_histogram = histogram(s)\n",
    "    new_s = []\n",
    "    for key,value in s_histogram.items():\n",
    "        new_s.append((value,key))\n",
    "    new_s.sort()\n",
    "    new_s.reverse()\n",
    "    for key,value in new_s:\n",
    "        print (value)\n",
    "        \n",
    "\n",
    "def histogram(s): # from a previous excercise\n",
    "    \"\"\"\n",
    "    Precondition : string s\n",
    "    Postcondition : Returns a dictionary of characters and frequencies.\n",
    "    \n",
    "    >>> histogram('aaaaaaaa')\n",
    "    {'a': 8}\n",
    "    \n",
    "    >>> {'a': 1, 'b': 1, 'c': 1, 'd': 1, 'e': 1, 'f': 1} == histogram('abcdef')\n",
    "    True\n",
    "    \n",
    "    >>> pprint.pprint(histogram('abcdef'))  #pprint sorts the dictionary for us\n",
    "    {'a': 1, 'b': 1, 'c': 1, 'd': 1, 'e': 1, 'f': 1}\n",
    "    \"\"\"\n",
    "    d = dict()\n",
    "    for c in s:\n",
    "        d[c] = d.get(c,0)+1\n",
    "    return d\n",
    "\n",
    "\n",
    "doctest.run_docstring_examples(most_frequent, globals(),verbose=True)"
   ]
  },
  {
   "cell_type": "markdown",
   "metadata": {},
   "source": [
    " "
   ]
  },
  {
   "cell_type": "markdown",
   "metadata": {
    "is_question": true,
    "problem": "Exercise 12.6"
   },
   "source": [
    "### Challenge: Exercise 12.4   (optional)\n",
    "\n",
    "From a [Car Talk Puzzler](http://www.cartalk.com/content/puzzlers):\n",
    "\n",
    "What is the longest English word, that remains a valid English word, as you remove its letters one at a time?\n",
    "\n",
    "Now, letters can be removed from either end, or the middle, but you can’t rearrange any of the letters. Every time you drop a letter, you wind up with another English word. If you do that, you’re eventually going to wind up with one letter and that too is going to be an English word—one that’s found in the dictionary. I want to know what’s the longest word and how many letters does it have?\n",
    "\n",
    "I’m going to give you a little modest example: Sprite. Ok? You start off with sprite, you take a letter off, one from the interior of the word, take the r away, and we’re left with the word spite, then we take the e off the end, we’re left with spit, we take the s off, we’re left with pit, it, and I. \n",
    "\n",
    "Write a program to find all words that can be reduced in this way, and then find the longest one.\n",
    "\n",
    "This exercise is a little more challenging than most, so here are some suggestions:\n",
    "\n",
    "- You might want to write a function that takes a word and computes a list of all the words that can be formed by removing one letter. These are the “children” of the word.\n",
    "- Recursively, a word is reducible if any of its children are reducible. As a base case, you can consider the empty string reducible.\n",
    "- The word list from [Chapter 9.1](http://www.greenteapress.com/thinkpython2/html/thinkpython2010.html) Exercise 1 doesn’t contain single letter words. So you might want to add “I”, “a”, and the empty string.\n",
    "- To improve the performance of your program, you might want to memoize the words that are known to be reducible.\n",
    "\n",
    "Allen's solution: http://greenteapress.com/thinkpython2/code/reducible.py."
   ]
  },
  {
   "cell_type": "code",
   "execution_count": 1,
   "metadata": {
    "collapsed": false,
    "solution": "Exercise 12.6"
   },
   "outputs": [
    {
     "name": "stdout",
     "output_type": "stream",
     "text": [
      "longest reducible word : complecting\n"
     ]
    }
   ],
   "source": [
    "import doctest\n",
    "\n",
    "\n",
    "def get_children(word):\n",
    "    \"\"\"\n",
    "    precondition : a string word\n",
    "    postcondition : Returns all children of word\n",
    "\n",
    "    >>> get_children('sprite')\n",
    "    ['spite', 'sprit']\n",
    "\n",
    "    >>> get_children('spite')\n",
    "    ['site', 'spit']\n",
    "    \"\"\"\n",
    "    children = []\n",
    "    for i in range(len(word)):\n",
    "        if is_this_word(word[0:i]+word[i+1:]):\n",
    "            children.append(word[0:i]+word[i+1:])\n",
    "    return children\n",
    "\n",
    "\n",
    "def is_reducible(word):\n",
    "    \"\"\"\n",
    "    precondition : string word\n",
    "    postcondition : returns True if children are reducible\n",
    "\n",
    "    >>> is_reducible('sprite')\n",
    "    True\n",
    "\n",
    "    >>> is_reducible('asdf')\n",
    "    False\n",
    "    \"\"\"\n",
    "    if word in ['', 'a', 'i']:  # base case\n",
    "        return True\n",
    "    if word in memo:  # checks if the word is in memo\n",
    "        return memo[word]\n",
    "    children = get_children(word)\n",
    "    for child in children:\n",
    "        memo[child] = is_reducible(child)\n",
    "        return memo[child]  # memoization\n",
    "    return False\n",
    "\n",
    "\n",
    "def is_this_word(word):\n",
    "    \"\"\"\n",
    "    preconditon : a string word\n",
    "    postcondition : returns True if word is an actual word in word.txt\n",
    "                    returns False if not\n",
    "\n",
    "    >>> is_this_word('asdfdsafdasff')\n",
    "    False\n",
    "\n",
    "    >>> is_this_word('sprite')\n",
    "    True\n",
    "    \"\"\"\n",
    "    if word in words_dict:\n",
    "        return True\n",
    "    else:\n",
    "        return False\n",
    "\n",
    "\n",
    "def init_english_dict(file_name):\n",
    "    \"\"\"\n",
    "    precondition : the directory of the words.txt file_name\n",
    "    postcondition : returns a dictionary of words in words.txt + 'a','i',' ''\n",
    "    \"\"\"\n",
    "    english_words = dict()\n",
    "    f = open(file_name)\n",
    "    lines = f.readlines()\n",
    "    for l in lines:\n",
    "        word = l.strip().lower()\n",
    "        english_words[word] = None\n",
    "    f.close()\n",
    "    for word in ['a', 'i', '']:\n",
    "        english_words[word] = None\n",
    "    return english_words\n",
    "\n",
    "\n",
    "if __name__ == \"__main__\":\n",
    "    words_dict = init_english_dict(\"/home/slyu/Documents/softdes/words.txt\")  #this won't work on other computers\n",
    "    memo = dict()\n",
    "    reducible_word = []\n",
    "    for word in words_dict:\n",
    "        if is_reducible(word):\n",
    "            reducible_word.append(word)\n",
    "    reducible_word.sort(key=len, reverse=True) #reducible_word contains all the reducible words\n",
    "    print(\"longest reducible word : \" + reducible_word[0])\n",
    "    doctest.testmod()\n",
    " "
   ]
  },
  {
   "cell_type": "markdown",
   "metadata": {},
   "source": [
    " "
   ]
  },
  {
   "cell_type": "markdown",
   "metadata": {
    "is_question": true,
    "problem": "Feedback"
   },
   "source": [
    "## Reading Journal feedback\n",
    "\n",
    "[Please complete this short survey](https://docs.google.com/forms/d/e/1FAIpQLScQekhUrf6YYjpfQiAAbavLIA-IJklv_PX1BWbGgxj7JPolmw/viewform?c=0&w=1)\n",
    "\n",
    "If you have any comments on this Reading Journal, feel free to leave them in the survey linked above. This could include suggestions to improve the exercises, topics you'd like to see covered in class next time, or other feedback.\n",
    "\n",
    "If you have Python questions or run into problems while completing the reading, you should post them to Piazza instead so you can get a quick response before your journal is submitted."
   ]
  },
  {
   "cell_type": "markdown",
   "metadata": {
    "feedback_response": true,
    "solution": "Feedback"
   },
   "source": [
    " "
   ]
  }
 ],
 "metadata": {
  "kernelspec": {
   "display_name": "Python 3",
   "language": "python",
   "name": "python3"
  },
  "language_info": {
   "codemirror_mode": {
    "name": "ipython",
    "version": 3
   },
   "file_extension": ".py",
   "mimetype": "text/x-python",
   "name": "python",
   "nbconvert_exporter": "python",
   "pygments_lexer": "ipython3",
   "version": "3.5.2"
  }
 },
 "nbformat": 4,
 "nbformat_minor": 0
}
