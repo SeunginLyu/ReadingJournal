{
 "cells": [
  {
   "cell_type": "markdown",
   "metadata": {},
   "source": [
    "# Day 3 Reading Journal\n",
    "\n",
    "This journal includes several required exercises, but it is meant to encourage active reading more generally.  You should use the journal to take detailed notes, catalog questions, and explore the content from Think Python deeply.\n",
    "\n",
    "Reading: Think Python Chapter 8, 10.1-10.6\n",
    "\n",
    "**Due: Thursday, January 26 at noon**\n",
    "\n"
   ]
  },
  {
   "cell_type": "markdown",
   "metadata": {},
   "source": [
    "## [Chapter 8](http://www.greenteapress.com/thinkpython2/html/thinkpython2009.html)\n",
    "\n",
    "Note: the exercise numbers below match up with the reading for ease of cross referencing."
   ]
  },
  {
   "cell_type": "markdown",
   "metadata": {},
   "source": [
    "### Chapter 8.3  \n",
    "\n",
    "Write a function that takes a string as an argument and displays the letters backward, one per line."
   ]
  },
  {
   "cell_type": "code",
   "execution_count": 14,
   "metadata": {
    "collapsed": false
   },
   "outputs": [
    {
     "name": "stdout",
     "output_type": "stream",
     "text": [
      "Trying:\n",
      "    letters_backward(\"stop\")\n",
      "Expecting:\n",
      "    p\n",
      "    o\n",
      "    t\n",
      "    s\n",
      "ok\n",
      "Trying:\n",
      "    letters_backward(\"tomato\")\n",
      "Expecting:\n",
      "    o\n",
      "    t\n",
      "    a\n",
      "    m\n",
      "    o\n",
      "    t\n",
      "ok\n",
      "1 items had no tests:\n",
      "    __main__\n",
      "1 items passed all tests:\n",
      "   2 tests in __main__.letters_backward\n",
      "2 tests in 2 items.\n",
      "2 passed and 0 failed.\n",
      "Test passed.\n"
     ]
    }
   ],
   "source": [
    "def letters_backward(s):\n",
    "    \"\"\"\n",
    "    Displays the given string backward, one per line\n",
    "    \n",
    "    >>> letters_backward(\"stop\")\n",
    "    p\n",
    "    o\n",
    "    t\n",
    "    s\n",
    "    \n",
    "    >>> letters_backward(\"tomato\")\n",
    "    o\n",
    "    t\n",
    "    a\n",
    "    m\n",
    "    o\n",
    "    t\n",
    "    \"\"\"\n",
    "    \n",
    "    k = len(s) - \n",
    "    while (k >= 0):\n",
    "        print (s[k])\n",
    "        k = k - 1\n",
    "\n",
    "    \n",
    "import doctest\n",
    "doctest.testmod(verbose=True)\n",
    "doctest.run_docstring_examples(letters_backward,globals())"
   ]
  },
  {
   "cell_type": "markdown",
   "metadata": {},
   "source": [
    "**Challenge (optional):** Write a function that translates words into [Pig Latin](https://en.wikipedia.org/wiki/Pig_Latin). \n",
    "\n",
    "**Challenge to the challenge**: Write a function that translates back into English."
   ]
  },
  {
   "cell_type": "code",
   "execution_count": 72,
   "metadata": {
    "collapsed": false
   },
   "outputs": [
    {
     "name": "stdout",
     "output_type": "stream",
     "text": [
      "opestday\n",
      "**********************************************************************\n",
      "File \"__main__\", line 73, in NoName\n",
      "Failed example:\n",
      "    reverse_pig_latin(\"eerschay\")\n",
      "Expected:\n",
      "    'cheers'\n",
      "Got:\n",
      "    'heersc'\n",
      "**********************************************************************\n",
      "File \"__main__\", line 76, in NoName\n",
      "Failed example:\n",
      "    reverse_pig_latin(\"ilesmay\")\n",
      "Expected:\n",
      "    'smile'\n",
      "Got:\n",
      "    'miles'\n",
      "**********************************************************************\n",
      "File \"__main__\", line 79, in NoName\n",
      "Failed example:\n",
      "    reverse_pig_latin(\"ootshay\")\n",
      "Expected:\n",
      "    'shoot'\n",
      "Got:\n",
      "    'hoots'\n",
      "**********************************************************************\n",
      "File \"__main__\", line 82, in NoName\n",
      "Failed example:\n",
      "    reverse_pig_latin(\"eerschay\")\n",
      "Expected:\n",
      "    'cheers'\n",
      "Got:\n",
      "    'heersc'\n"
     ]
    }
   ],
   "source": [
    "def is_vowel(s):\n",
    "    \"\"\"\n",
    "    Return True or False by checking if s is a vowel\n",
    "    \n",
    "    >>> is_vowel('s')\n",
    "    False\n",
    "    \n",
    "    >>> is_vowel('a')\n",
    "    True\n",
    "    \n",
    "    \"\"\"\n",
    "    if (s == 'a' or s == 'e' or s == 'i' or s == 'o' or s == 'u'):\n",
    "        return True\n",
    "    else:\n",
    "        return False\n",
    "\n",
    "\n",
    "def pig_latin(word): #challenge\n",
    "    \"\"\"\n",
    "    Return given 'word' translated into Pig Latin, \n",
    "    converts all uppercase to lowercase\n",
    "    \n",
    "    >>> pig_latin(\"software\")\n",
    "    'oftwaresay'\n",
    "    \n",
    "    >>> pig_latin(\"cheers\")\n",
    "    'eerschay'\n",
    "    \n",
    "    >>> pig_latin(\"smile\")\n",
    "    'ilesmay'\n",
    "    \n",
    "    >>> pig_latin(\"shoot\")\n",
    "    'ootshay'\n",
    "    \n",
    "    >>> pig_latin(\"cheers\")\n",
    "    'eerschay'\n",
    "    \n",
    "    >>> pig_latin(\"aRE\")\n",
    "    'areway'\n",
    "    \n",
    "    >>> pig_latin(\"egg\")\n",
    "    'eggway'\n",
    "    \n",
    "    \"\"\"\n",
    "    s = word.lower() #converts word to lowercase\n",
    "    suffix = \"ay\"\n",
    "    suffix_v = \"way\"\n",
    "    first_vowel_index = 0  \n",
    "    for i in range(len(s)):\n",
    "        if (is_vowel(s[i])):\n",
    "            first_vowel_index = i\n",
    "            break\n",
    "    \n",
    "    if(first_vowel_index == 0): #if the word starts with vowel\n",
    "        pig_latin_s = s + suffix_v #adding \"way\" to the end\n",
    "        \n",
    "    else:\n",
    "        new_start = s[first_vowel_index:]\n",
    "        new_middle = s[:first_vowel_index]\n",
    "        new_end = suffix\n",
    "        pig_latin_s = new_start + new_middle + new_end\n",
    "    \n",
    "    return pig_latin_s\n",
    "\n",
    "def reverse_pig_latin(word): #challenge**2\n",
    "    \"\"\"\n",
    "    Return given Pig Latin 'word' translated back into English, \n",
    "    converts all uppercase to lowercase\n",
    "    \n",
    "    >>> reverse_pig_latin(\"oftwaresay\")\n",
    "    'software'\n",
    "    \n",
    "    >>> reverse_pig_latin(\"eerschay\")\n",
    "    'cheers'\n",
    "    \n",
    "    >>> reverse_pig_latin(\"ilesmay\")\n",
    "    'smile'\n",
    "    \n",
    "    >>> reverse_pig_latin(\"ootshay\")\n",
    "    'shoot'\n",
    "    \n",
    "    >>> reverse_pig_latin(\"AREWAY\")\n",
    "    'are'\n",
    "    \n",
    "    >>> reverse_pig_latin(\"eggway\")\n",
    "    'egg'\n",
    "    \n",
    "    \"\"\"\n",
    "    s = word.lower() #converts word to lowercase\n",
    "    \n",
    "    #case1 : the original word starts with vowel\n",
    "    new_s = s[:(len(s)-3)]\n",
    "    if (pig_latin(new_s) == s):\n",
    "        return new_s\n",
    "    else:\n",
    "        #case2 : the original word starts with one or more consonants\n",
    "        test_s = s[:(len(s)-2)]\n",
    "        for i in range(len(test_s)):  #tries origin possible\n",
    "            test_start = test_s[(len(test_s)-i):]\n",
    "            new_s = test_start + test_s[:len(test_s)-i]\n",
    "            if (pig_latin(new_s) == s): # when pig_latin(new_s) is equal to the given string s, that's the original\n",
    "                #print(new_s)\n",
    "                #print(pig_latin(new_s))\n",
    "                #print(s)\n",
    "                return new_s\n",
    "    \n",
    "\n",
    "print (pig_latin(\"dopest\"))\n",
    "reverse_pig_latin(\"oftwaresay\")\n",
    "\n",
    "import doctest\n",
    "doctest.run_docstring_examples(pig_latin, globals())\n",
    "doctest.run_docstring_examples(reverse_pig_latin, globals())\n",
    "\n",
    "#I tried but couldn't figure out the way to handle the erros below.\n",
    "#This code would work if we have a library of English words for comparison"
   ]
  },
  {
   "cell_type": "markdown",
   "metadata": {},
   "source": [
    "### Chapter 8.7\n",
    "Encapsulate the character counting code in a fruitful function named `count` that accepts the string and the letter as arguments and returns the count."
   ]
  },
  {
   "cell_type": "code",
   "execution_count": 74,
   "metadata": {
    "collapsed": false
   },
   "outputs": [],
   "source": [
    "def count(word, target):\n",
    "    \"\"\"\n",
    "    Returns the number of letter 'target' in string 'word'\n",
    "    \n",
    "    >>> count (\"blahblah\", \"a\")\n",
    "    2\n",
    "    \n",
    "    >>> count (\"software design\", \"e\")\n",
    "    2\n",
    "    \n",
    "    >>> count (\"aaaaaaaa\", \"a\")\n",
    "    8\n",
    "    \"\"\"\n",
    "    count = 0\n",
    "    for letter in word:\n",
    "        if letter == target:\n",
    "            count = count + 1\n",
    "    return count\n",
    "    \n",
    "    \n",
    "import doctest\n",
    "doctest.run_docstring_examples(count, globals())"
   ]
  },
  {
   "cell_type": "markdown",
   "metadata": {},
   "source": [
    "### Exercise 8.1\n",
    "Skim the documentation of the Python [string methods](http://docs.python.org/3/library/stdtypes.html#string-methods). Play with them to make sure you understand how they work-- strip, replace, and upper/lower are particularly useful. Show us some of your experiments."
   ]
  },
  {
   "cell_type": "code",
   "execution_count": 120,
   "metadata": {
    "collapsed": false
   },
   "outputs": [
    {
     "name": "stdout",
     "output_type": "stream",
     "text": [
      "ineedthis\n",
      "SEUNGIN\n",
      "LYU\n",
      "seungin lyu\n",
      "True\n",
      "False\n",
      "I I I I I I\n",
      "I I I you you you\n"
     ]
    }
   ],
   "source": [
    "#playing with capitalize()\n",
    "first_name = \"seungin\"\n",
    "last_name = \"lyu\"\n",
    "full_name = first_name.capitalize() + ' ' + last_name.capitalize()\n",
    "\n",
    "\n",
    "#playing with strip('char')\n",
    "test='       ineedthis        '\n",
    "print(test.strip())\n",
    "\n",
    "\n",
    "#playing with upper/lower\n",
    "print(first_name.upper())\n",
    "print(last_name.upper())\n",
    "print(full_name.lower())\n",
    "print(full_name.lower().islower())\n",
    "print(full_name.lower().isupper())\n",
    "\n",
    "#playing with replace\n",
    "test = \"you you you you you you\"\n",
    "print(test.replace(\"you\",\"I\"))\n",
    "print(test.replace(\"you\",\"I\",3))"
   ]
  },
  {
   "cell_type": "markdown",
   "metadata": {},
   "source": [
    "### Exercise 8.4  \n",
    "\n",
    "The following functions are all intended to check whether a string contains any lowercase letters, but at least some of them are wrong. For each function, describe what the function actually does (assuming that the parameter is a string)."
   ]
  },
  {
   "cell_type": "code",
   "execution_count": 112,
   "metadata": {
    "collapsed": true
   },
   "outputs": [],
   "source": [
    "def any_lowercase1(s):\n",
    "    for c in s:\n",
    "        if c.islower():\n",
    "            return True\n",
    "        else:\n",
    "            return False"
   ]
  },
  {
   "cell_type": "markdown",
   "metadata": {},
   "source": [
    "The for loop terminates at its first execution. The function returns True if the first letter is lowercase and returns False if not. The \"return False\" statement should have been located outside the for loop so that the for loop traverses through the entire string before returning 'False'."
   ]
  },
  {
   "cell_type": "markdown",
   "metadata": {},
   "source": [
    " "
   ]
  },
  {
   "cell_type": "code",
   "execution_count": 142,
   "metadata": {
    "collapsed": false
   },
   "outputs": [],
   "source": [
    "def any_lowercase2(s):\n",
    "    for c in s:\n",
    "        if 'c'.islower():\n",
    "            return 'True'\n",
    "        else:\n",
    "            return 'False'"
   ]
  },
  {
   "cell_type": "markdown",
   "metadata": {},
   "source": [
    "This function always returns True because 'c'.islower() is testing if 'c' is lowercase and not testing the single letter c in s. And we shouldn't be returning boolean values(True and False) as string values."
   ]
  },
  {
   "cell_type": "markdown",
   "metadata": {},
   "source": [
    " "
   ]
  },
  {
   "cell_type": "code",
   "execution_count": null,
   "metadata": {
    "collapsed": true
   },
   "outputs": [],
   "source": [
    "def any_lowercase3(s):\n",
    "    for c in s:\n",
    "        flag = c.islower()\n",
    "    return flag"
   ]
  },
  {
   "cell_type": "markdown",
   "metadata": {},
   "source": [
    "This function tells us whether the last letter of string s is lowercase or not. The flag variable should've been assigned default value of 'False' and should've been only updated when c.islower() == True. "
   ]
  },
  {
   "cell_type": "markdown",
   "metadata": {},
   "source": [
    " "
   ]
  },
  {
   "cell_type": "code",
   "execution_count": 127,
   "metadata": {
    "collapsed": false
   },
   "outputs": [],
   "source": [
    "def any_lowercase4(s):\n",
    "    flag = False\n",
    "    for c in s:\n",
    "        flag = flag or c.islower()\n",
    "    return flag"
   ]
  },
  {
   "cell_type": "markdown",
   "metadata": {},
   "source": [
    "This function actually does tell us if string s contains any lowercase letters. flag = flag or c.islower() depends on the value of c.islower() becuase the default value of flag has been set to False. So when one lowercase letter has been found, the flag value stays \"True\" throughout the foor loop execution."
   ]
  },
  {
   "cell_type": "markdown",
   "metadata": {},
   "source": [
    " "
   ]
  },
  {
   "cell_type": "code",
   "execution_count": 139,
   "metadata": {
    "collapsed": false
   },
   "outputs": [],
   "source": [
    "def any_lowercase5(s):\n",
    "    for c in s:\n",
    "        if not c.islower():\n",
    "            return False\n",
    "    return True"
   ]
  },
  {
   "cell_type": "markdown",
   "metadata": {},
   "source": [
    "This function returns False if there exists any uppercase letter. It returns true only when all letters are lowercase."
   ]
  },
  {
   "cell_type": "markdown",
   "metadata": {},
   "source": [
    " "
   ]
  },
  {
   "cell_type": "markdown",
   "metadata": {},
   "source": [
    "## [Chapter 10.1 - 10.6](http://www.greenteapress.com/thinkpython2/html/thinkpython2011.html)\n",
    "\n",
    "You may want to review [state diagrams in Chapter 2](http://www.greenteapress.com/thinkpython2/html/thinkpython2003.html#toc13).\n",
    "\n"
   ]
  },
  {
   "cell_type": "markdown",
   "metadata": {},
   "source": [
    "**Quick check:** What type of items can be placed in a list?"
   ]
  },
  {
   "cell_type": "markdown",
   "metadata": {},
   "source": [
    "Any type of items(values) can be placed in a list. These types include integer, float, string, boolean, another list[]."
   ]
  },
  {
   "cell_type": "markdown",
   "metadata": {},
   "source": [
    "**Quick check:** Give at least one similarity and one difference between lists and strings."
   ]
  },
  {
   "cell_type": "markdown",
   "metadata": {},
   "source": [
    "<b>Similarity</b><br>\n",
    "1.They are both sequence of values.<br>\n",
    "2.They can both invoke methods.<br>\n",
    "3.We can traverse both the sequence using index.<br>\n",
    "4.They both support basic operations (+, -, *, ==, >, < )<br>\n",
    "\n",
    "<b>Difference</b><br>\n",
    "1.String only has 'characters' as values while list can have any type of values.<br>\n",
    "2.A string is immutable while a list is mutable.<br>\n",
    "3.A list can be nested within another list<br>\n"
   ]
  },
  {
   "cell_type": "markdown",
   "metadata": {},
   "source": [
    "### Exercise\n",
    "\n",
    "Write a Python function named `average` that takes a list of numbers and returns their arithmetic mean."
   ]
  },
  {
   "cell_type": "code",
   "execution_count": 156,
   "metadata": {
    "collapsed": false
   },
   "outputs": [],
   "source": [
    "def average(numbers):\n",
    "    \"\"\"\n",
    "    Returns arithmetic mean of numbers in list numbers\n",
    "    \n",
    "    >>> average([1,2,3,4,5])\n",
    "    3.0\n",
    "    \n",
    "    >>> average([1,1,1,1,1,1])\n",
    "    1.0\n",
    "    \n",
    "    >>> average([1,4])\n",
    "    2.5\n",
    "    \n",
    "    \"\"\"\n",
    "    \n",
    "    sum = 0\n",
    "    avg = 0\n",
    "    \n",
    "    for n in numbers:\n",
    "        sum = sum + n\n",
    "    \n",
    "    avg = sum / len(numbers)\n",
    "    return avg\n",
    "\n",
    "\n",
    "import doctest\n",
    "doctest.run_docstring_examples(average, globals())\n"
   ]
  },
  {
   "cell_type": "markdown",
   "metadata": {},
   "source": [
    "### Exercise\n",
    "You own a restaurant, and you need to keep up with the latest food fads or risk losing your fickle customers. You decide to write a Python function that adds the hot new ingredient _du jour_ to each of your regular menu items and returns the trendy new menu."
   ]
  },
  {
   "cell_type": "code",
   "execution_count": 163,
   "metadata": {
    "collapsed": false
   },
   "outputs": [
    {
     "name": "stdout",
     "output_type": "stream",
     "text": [
      "Finding tests in NoName\n",
      "Trying:\n",
      "    add_ingredient([\"burger\", \"salad\", \"ice cream\"], \"kale\")\n",
      "Expecting:\n",
      "    ['burger with kale', 'salad with kale', 'ice cream with kale']\n",
      "ok\n"
     ]
    }
   ],
   "source": [
    "def add_ingredient(menu, ingredient):\n",
    "    \"\"\"\n",
    "    Given a list of string 'menu' items and a trendy 'ingredient' string of the day,\n",
    "    return a new menu list of strings with the ingredient added to each.\n",
    "    \n",
    "    >>> add_ingredient([\"burger\", \"salad\", \"ice cream\"], \"kale\")\n",
    "    ['burger with kale', 'salad with kale', 'ice cream with kale']\n",
    "    \n",
    "    \"\"\"\n",
    "    \n",
    "    for i in range (len(menu)):\n",
    "        menu[i] = menu[i] + ' with ' + ingredient\n",
    "    return menu\n",
    "\n",
    "\n",
    "import doctest\n",
    "doctest.run_docstring_examples(add_ingredient, globals(), verbose=True)\n"
   ]
  },
  {
   "cell_type": "markdown",
   "metadata": {},
   "source": [
    "## Quick poll\n",
    "About how long did you spend working on this reading journal?"
   ]
  },
  {
   "cell_type": "markdown",
   "metadata": {},
   "source": [
    "about 3 hours mainly due to the pig_latin to English challenge. "
   ]
  },
  {
   "cell_type": "markdown",
   "metadata": {},
   "source": [
    "## Reading Journal feedback\n",
    "\n",
    "Have any comments on this Reading Journal? Feel free to leave them below and we'll read them when you submit your journal entry. This could include suggestions to improve the exercises, topics you'd like to see covered in class next time, or other feedback.\n",
    "\n",
    "If you have Python questions or run into problems while completing the reading, you should post them to Piazza instead so you can get a quick response before your journal is submitted."
   ]
  },
  {
   "cell_type": "markdown",
   "metadata": {},
   "source": []
  },
  {
   "cell_type": "markdown",
   "metadata": {},
   "source": [
    " "
   ]
  }
 ],
 "metadata": {
  "kernelspec": {
   "display_name": "Python 3",
   "language": "python",
   "name": "python3"
  },
  "language_info": {
   "codemirror_mode": {
    "name": "ipython",
    "version": 3
   },
   "file_extension": ".py",
   "mimetype": "text/x-python",
   "name": "python",
   "nbconvert_exporter": "python",
   "pygments_lexer": "ipython3",
   "version": "3.5.2"
  }
 },
 "nbformat": 4,
 "nbformat_minor": 0
}
