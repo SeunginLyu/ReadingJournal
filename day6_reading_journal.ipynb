{
 "cells": [
  {
   "cell_type": "markdown",
   "metadata": {},
   "source": [
    "# Day 6 Reading Journal\n",
    "\n",
    "This journal includes several required exercises, but it is meant to encourage active reading more generally.  You should use the journal to take detailed notes, catalog questions, and explore the content from Think Python deeply.\n",
    "\n",
    "Reading: Think Python Chapter 5.8-5.14, 6.5-6.11\n",
    "\n",
    "**Due: Monday, February 6 at 12 noon**\n",
    "\n"
   ]
  },
  {
   "cell_type": "markdown",
   "metadata": {},
   "source": [
    "## [Chapter 5.8 - 5.14](http://www.greenteapress.com/thinkpython2/html/thinkpython2006.html)\n",
    "\n",
    "[Python Tutor](http://pythontutor.com/) can be helpful for visualizing stack diagrams, including for recursive execution.\n",
    "\n",
    "Chapter 5 leads into Chapter 6, and all the required exercises for this reading are in the Chapter 6 section.\n",
    "\n"
   ]
  },
  {
   "cell_type": "markdown",
   "metadata": {},
   "source": [
    "## [Chapter 6.5 - 6.11](http://www.greenteapress.com/thinkpython2/html/thinkpython2007.html)"
   ]
  },
  {
   "cell_type": "markdown",
   "metadata": {
    "is_question": true,
    "problem": "Exercise 6.4"
   },
   "source": [
    "### Exercise 6.1  \n",
    "\n",
    "Draw a stack diagram for the following program. What does the program print? \n",
    "\n",
    "You can do this on paper or using [Python Tutor](http://pythontutor.com/)"
   ]
  },
  {
   "cell_type": "code",
   "execution_count": 1,
   "metadata": {
    "collapsed": false,
    "solution": "Exercise 6.4"
   },
   "outputs": [
    {
     "name": "stdout",
     "output_type": "stream",
     "text": [
      "9 90\n",
      "8100\n"
     ]
    }
   ],
   "source": [
    "def b(z):\n",
    "    prod = a(z, z) # prod = z * (z+1)\n",
    "    print(z, prod)\n",
    "    return prod # returns z * (z+1)\n",
    "\n",
    "def a(x, y):\n",
    "    x = x + 1\n",
    "    return x * y  #returns the product (x+1)*y = xy + y\n",
    "\n",
    "def c(x, y, z):\n",
    "    total = x + y + z # sum of x, y, z\n",
    "    square = b(total)**2 # (total * total+1)^2\n",
    "    return square\n",
    "\n",
    "x = 1\n",
    "y = x + 1\n",
    "print(c(x, y+3, x+y))  #total = 1 + 5 + 3 = 9, total * (total+1) = 9 * 10 = 90, result = 90^2 = 8100\n",
    "\n",
    "#this program prints ((x+y+z)*(x+y+z+1))**2"
   ]
  },
  {
   "cell_type": "code",
   "execution_count": 17,
   "metadata": {
    "collapsed": false
   },
   "outputs": [
    {
     "name": "stdout",
     "output_type": "stream",
     "text": [
      "function c -> x = 1 y = 5 z = 3\n",
      "     function b -> 9\n",
      "         function a -> x = 9 y = 9\n",
      "         function a returning 90\n",
      "         ---bottom of stack---\n",
      "     function b returning 90\n",
      "function c returning 8100\n"
     ]
    },
    {
     "data": {
      "text/plain": [
       "8100"
      ]
     },
     "execution_count": 17,
     "metadata": {},
     "output_type": "execute_result"
    }
   ],
   "source": [
    "#stack diagram using print\n",
    "\n",
    "def b(z):\n",
    "    print('    ','function b ->', z)\n",
    "    prod = a(z, z) # prod = z * (z+1)\n",
    "    print('    ','function b returning', prod)\n",
    "    return prod # returns z * (z+1)\n",
    "\n",
    "def a(x, y):\n",
    "    print('        ', 'function a ->', 'x =', x, 'y =', y)\n",
    "    x = x + 1\n",
    "    print('        ', 'function a returning', x * y)\n",
    "    print('        ', '---bottom of stack---')\n",
    "    return x * y  #returns the product (x+1)*y = xy + y\n",
    "\n",
    "def c(x, y, z):\n",
    "    print('function c ->', 'x =',x,'y =', y,'z =', z)\n",
    "    total = x + y + z # sum of x, y, z\n",
    "    square = b(total)**2 # (total * total+1)^2\n",
    "    print('function c returning',square)\n",
    "    return square\n",
    "\n",
    "x = 1\n",
    "y = x + 1\n",
    "c(x, y+3, x+y)"
   ]
  },
  {
   "cell_type": "markdown",
   "metadata": {
    "is_question": true,
    "problem": "Exercise 6.6"
   },
   "source": [
    "### Exercise 6.3  \n",
    "\n",
    "A palindrome is a word that is spelled the same backward and forward, like “noon” and “redivider”. Recursively, a word is a palindrome if the first and last letters are the same and the middle is a palindrome.\n",
    "\n",
    "You can use the `first`, `last`, and `middle` helper functions defined in Think Python, or do the string slices inside your function directly. Be sure to think about your base cases.\n",
    "    \n",
    "Write a function called `is_palindrome` that takes a string argument and returns `True` if it is a palindrome and `False` otherwise. Remember that you can use the built-in function `len` to check the length of a string.\n",
    "\n",
    "Write some unit tests for your function (optionally using doctest) to show that it works as intended."
   ]
  },
  {
   "cell_type": "code",
   "execution_count": 35,
   "metadata": {
    "collapsed": false,
    "solution": "Exercise 6.6"
   },
   "outputs": [
    {
     "name": "stdout",
     "output_type": "stream",
     "text": [
      "Trying:\n",
      "    is_palindrome('noon')\n",
      "Expecting:\n",
      "    True\n",
      "ok\n",
      "Trying:\n",
      "    is_palindrome('redivider')\n",
      "Expecting:\n",
      "    True\n",
      "ok\n",
      "Trying:\n",
      "    is_palindrome('a')\n",
      "Expecting:\n",
      "    True\n",
      "ok\n",
      "Trying:\n",
      "    is_palindrome('')\n",
      "Expecting:\n",
      "    True\n",
      "ok\n",
      "Trying:\n",
      "    is_palindrome('asdf')\n",
      "Expecting:\n",
      "    False\n",
      "ok\n",
      "4 items had no tests:\n",
      "    __main__\n",
      "    __main__.a\n",
      "    __main__.b\n",
      "    __main__.c\n",
      "1 items passed all tests:\n",
      "   5 tests in __main__.is_palindrome\n",
      "5 tests in 5 items.\n",
      "5 passed and 0 failed.\n",
      "Test passed.\n"
     ]
    },
    {
     "data": {
      "text/plain": [
       "TestResults(failed=0, attempted=5)"
      ]
     },
     "execution_count": 35,
     "metadata": {},
     "output_type": "execute_result"
    }
   ],
   "source": [
    "def is_palindrome(word):\n",
    "    \"\"\"\n",
    "    Precondition : a string argument 'word'\n",
    "    Postcondition : returns True if 'word' is palindrome, returns False it not.\n",
    "    \n",
    "    >>> is_palindrome('noon')\n",
    "    True\n",
    "    \n",
    "    >>> is_palindrome('redivider')\n",
    "    True\n",
    "    \n",
    "    >>> is_palindrome('a')\n",
    "    True\n",
    "    \n",
    "    >>> is_palindrome('')\n",
    "    True\n",
    "    \n",
    "    >>> is_palindrome('asdf')\n",
    "    False\n",
    "    \"\"\"\n",
    "    if(len(word) == 1 or len(word) == 0):\n",
    "        return True\n",
    "    \n",
    "    first_letter = word[0]\n",
    "    last_letter = word[-1]\n",
    "    middle = word[1:-1]\n",
    "    \n",
    "    if(first_letter == last_letter):\n",
    "        if(len(word) == 2):\n",
    "            return True\n",
    "        else:\n",
    "            return is_palindrome(middle)\n",
    "    else:\n",
    "        return False\n",
    "    \n",
    "import doctest\n",
    "doctest.testmod(verbose=True)"
   ]
  },
  {
   "cell_type": "markdown",
   "metadata": {
    "is_question": true,
    "problem": "Exercise 6.6 challenge"
   },
   "source": [
    "### Challenge (optional)\n",
    "\n",
    "Use the word list from [Chapter 9.1](http://www.greenteapress.com/thinkpython2/html/thinkpython2010.html) Exercise 1 to find all of the palindromes."
   ]
  },
  {
   "cell_type": "code",
   "execution_count": 1,
   "metadata": {
    "collapsed": false,
    "solution": "Exercise 6.6 challenge"
   },
   "outputs": [],
   "source": [
    "def is_palindrome(word):\n",
    "    \"\"\"\n",
    "    Precondition : a string argument 'word'\n",
    "    Postcondition : returns True if 'word' is palindrome, returns False it not.\n",
    "    \n",
    "    >>> is_palindrome('noon')\n",
    "    True\n",
    "    \n",
    "    >>> is_palindrome('redivider')\n",
    "    True\n",
    "    \n",
    "    >>> is_palindrome('a')\n",
    "    True\n",
    "    \n",
    "    >>> is_palindrome('')\n",
    "    True\n",
    "    \n",
    "    >>> is_palindrome('asdf')\n",
    "    False\n",
    "    \"\"\"\n",
    "    if(len(word) == 1 or len(word) == 0):\n",
    "        return True\n",
    "    \n",
    "    first_letter = word[0]\n",
    "    last_letter = word[-1]\n",
    "    middle = word[1:-1]\n",
    "    \n",
    "    if(first_letter == last_letter):\n",
    "        if(len(word) == 2):\n",
    "            return True\n",
    "        else:\n",
    "            return is_palindrome(middle)\n",
    "    else:\n",
    "        return False\n",
    "    \n",
    "fin = open('words.txt')\n",
    "for line in fin:\n",
    "    word = line.strip()\n",
    "    palindromes = []\n",
    "    if(is_palindrome(word)):\n",
    "        palindromes.append(word)\n",
    "\n",
    "for palindrome in palindromes:\n",
    "    print(palindrome)"
   ]
  },
  {
   "cell_type": "markdown",
   "metadata": {
    "is_question": true,
    "problem": "Exercise 6.7"
   },
   "source": [
    "### Exercise 6.4  \n",
    "\n",
    "A number `a` is a power of `b` if it is divisible by `b` and `a/b` is a power of `b`. Write a function called `is_power` that takes parameters `a` and `b` and returns `True` if `a` is a power of `b`. Note: you will have to think about the base case."
   ]
  },
  {
   "cell_type": "code",
   "execution_count": 3,
   "metadata": {
    "collapsed": false,
    "solution": "Exercise 6.7"
   },
   "outputs": [
    {
     "name": "stdout",
     "output_type": "stream",
     "text": [
      "Finding tests in NoName\n",
      "Trying:\n",
      "    is_power(4,2)\n",
      "Expecting:\n",
      "    True\n",
      "ok\n",
      "Trying:\n",
      "    is_power(3,2)\n",
      "Expecting:\n",
      "    False\n",
      "ok\n",
      "Trying:\n",
      "    is_power(10000,10)\n",
      "Expecting:\n",
      "    True\n",
      "ok\n",
      "Trying:\n",
      "    is_power(0,1)\n",
      "Expecting:\n",
      "    False\n",
      "ok\n"
     ]
    }
   ],
   "source": [
    "def is_power(a,b):\n",
    "    \"\"\"\n",
    "    Precondition : integer a,b (both a,b >= 1 and a > b)\n",
    "    Postcondition : Returns True if a is power b, Returns False if a is not power of b.\n",
    "    \n",
    "    >>> is_power(4,2)\n",
    "    True\n",
    "    \n",
    "    >>> is_power(3,2)\n",
    "    False\n",
    "    \n",
    "    >>> is_power(10000,10)\n",
    "    True\n",
    "    \n",
    "    >>> is_power(0,1)\n",
    "    False\n",
    "    \"\"\"\n",
    "    if(a == 0 or b == 0): # power not defined for 0, 0^0 is not defined.\n",
    "        return False\n",
    "\n",
    "    if(a - b == 0):\n",
    "        return True\n",
    "    else:\n",
    "        if(a % b == 0):\n",
    "            return is_power(a/b, b)\n",
    "        else:\n",
    "            return False\n",
    "\n",
    "\n",
    "import doctest\n",
    "doctest.run_docstring_examples(is_power, globals(), verbose=True)"
   ]
  },
  {
   "cell_type": "markdown",
   "metadata": {
    "is_question": true,
    "problem": "Exercise 6.8"
   },
   "source": [
    "### Challenge (optional) - Exercise 6.5  \n",
    "\n",
    "The greatest common divisor (GCD) of `a` and `b` is the largest number that divides both of them with no remainder.\n",
    "\n",
    "One way to find the GCD of two numbers is based on the observation that if `r` is the remainder when `a` is divided by `b`, then `gcd(a, b) = gcd(b, r)`. As a base case, we can use `gcd(a, 0) = a`.\n",
    "\n",
    "Write a function called `gcd` that takes parameters `a` and `b` and returns their greatest common divisor."
   ]
  },
  {
   "cell_type": "code",
   "execution_count": 62,
   "metadata": {
    "collapsed": false,
    "problem": "Exercise 6.8"
   },
   "outputs": [
    {
     "name": "stdout",
     "output_type": "stream",
     "text": [
      "Finding tests in NoName\n",
      "Trying:\n",
      "    gcd(4,2)\n",
      "Expecting:\n",
      "    2\n",
      "ok\n",
      "Trying:\n",
      "    gcd(2,13)\n",
      "Expecting:\n",
      "    1\n",
      "ok\n",
      "Trying:\n",
      "    gcd(1,1)\n",
      "Expecting:\n",
      "    1\n",
      "ok\n",
      "Trying:\n",
      "    gcd(3,0)\n",
      "Expecting:\n",
      "    3\n",
      "ok\n",
      "Trying:\n",
      "    gcd(0,3)\n",
      "Expecting:\n",
      "    3\n",
      "ok\n"
     ]
    }
   ],
   "source": [
    "def gcd(a,b):\n",
    "    \"\"\"\n",
    "    Precondition : integer a,b\n",
    "    Postcondition : Returns Tgreatest common divisor of a and b\n",
    "    \n",
    "    >>> gcd(4,2)\n",
    "    2\n",
    "    \n",
    "    >>> gcd(2,13)\n",
    "    1\n",
    "     \n",
    "    >>> gcd(1,1)\n",
    "    1\n",
    "    \n",
    "    >>> gcd(3,0)\n",
    "    3\n",
    "    \n",
    "    >>> gcd(0,3)\n",
    "    3\n",
    "    \"\"\"\n",
    "    if(a < b): # swaps a,b and so that a > b\n",
    "        temp = a\n",
    "        a = b\n",
    "        b = temp\n",
    "    \n",
    "    if(b == 0):\n",
    "        return a\n",
    "    else:\n",
    "        r = a % b\n",
    "        return gcd(b,r)\n",
    "\n",
    "\n",
    "import doctest\n",
    "doctest.run_docstring_examples(gcd, globals(), verbose=True)"
   ]
  },
  {
   "cell_type": "markdown",
   "metadata": {},
   "source": [
    "## Reading Journal feedback\n",
    "\n",
    "[Please complete this short survey](https://docs.google.com/forms/d/e/1FAIpQLScQekhUrf6YYjpfQiAAbavLIA-IJklv_PX1BWbGgxj7JPolmw/viewform?c=0&w=1)\n",
    "\n",
    "If you have any comments on this Reading Journal, feel free to leave them in the survey linked above. This could include suggestions to improve the exercises, topics you'd like to see covered in class next time, or other feedback.\n",
    "\n",
    "If you have Python questions or run into problems while completing the reading, you should post them to Piazza instead so you can get a quick response before your journal is submitted."
   ]
  },
  {
   "cell_type": "markdown",
   "metadata": {
    "feedback_response": true
   },
   "source": [
    " "
   ]
  }
 ],
 "metadata": {
  "kernelspec": {
   "display_name": "Python 3",
   "language": "python",
   "name": "python3"
  },
  "language_info": {
   "codemirror_mode": {
    "name": "ipython",
    "version": 3
   },
   "file_extension": ".py",
   "mimetype": "text/x-python",
   "name": "python",
   "nbconvert_exporter": "python",
   "pygments_lexer": "ipython3",
   "version": "3.5.2"
  }
 },
 "nbformat": 4,
 "nbformat_minor": 0
}
