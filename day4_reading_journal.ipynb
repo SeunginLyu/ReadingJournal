{
 "cells": [
  {
   "cell_type": "markdown",
   "metadata": {},
   "source": [
    "# Day 4 Reading Journal\n",
    "\n",
    "This journal includes several required exercises, but it is meant to encourage active reading more generally.  You should use the journal to take detailed notes, catalog questions, and explore the content from Think Python deeply.\n",
    "\n",
    "Reading: Think Python Chapter 10\n",
    "\n",
    "**Due: Monday, January 30 at 12 noon**\n",
    "\n"
   ]
  },
  {
   "cell_type": "markdown",
   "metadata": {},
   "source": [
    "## [Chapter 10](http://www.greenteapress.com/thinkpython2/html/thinkpython2011.html)\n",
    "\n",
    "You may want to review [state diagrams in Chapter 2](http://www.greenteapress.com/thinkpython22/html/thinkpython003.html#toc13). [Python Tutor](http://pythontutor.com/) is also helpful for visualizing the state of your program.\n",
    "\n"
   ]
  },
  {
   "cell_type": "markdown",
   "metadata": {},
   "source": [
    "### Exercise 10.3 \n",
    "Write a function called `middle` that takes a list and returns a new list that contains all but the first and last elements. So `middle([1,2,3,4])` should return `[2,3]`."
   ]
  },
  {
   "cell_type": "code",
   "execution_count": 22,
   "metadata": {
    "collapsed": false
   },
   "outputs": [
    {
     "name": "stdout",
     "output_type": "stream",
     "text": [
      "[1, 2, 3, 4, 5]\n",
      "[2, 3, 4]\n",
      "Trying:\n",
      "    chop([1,2,3,4])\n",
      "Expecting nothing\n",
      "ok\n",
      "Trying:\n",
      "    middle([1,2,3,4])\n",
      "Expecting:\n",
      "    [2, 3]\n",
      "ok\n",
      "Trying:\n",
      "    middle([1,2,3,4,5])\n",
      "Expecting:\n",
      "    [2, 3, 4]\n",
      "ok\n",
      "1 items had no tests:\n",
      "    __main__\n",
      "2 items passed all tests:\n",
      "   1 tests in __main__.chop\n",
      "   2 tests in __main__.middle\n",
      "3 tests in 3 items.\n",
      "3 passed and 0 failed.\n",
      "Test passed.\n"
     ]
    }
   ],
   "source": [
    "def middle (t):\n",
    "    \"\"\"\n",
    "    Returns a new list t_middle with first and last elements of t removed.\n",
    "    \n",
    "    >>> middle([1,2,3,4])\n",
    "    [2, 3]\n",
    "    \n",
    "    >>> middle([1,2,3,4,5])\n",
    "    [2, 3, 4]\n",
    "    \n",
    "    \"\"\"\n",
    "\n",
    "    return t[1:-1]\n",
    "\n",
    "test = [1,2,3,4,5]\n",
    "middle (test)\n",
    "print (test)\n",
    "print (middle(test))\n",
    "\n",
    "import doctest\n",
    "doctest.testmod(verbose=True)\n",
    "doctest.run_docstring_examples(middle,globals())"
   ]
  },
  {
   "cell_type": "markdown",
   "metadata": {},
   "source": [
    "### Exercise 10.4 \n",
    "Write a function called `chop` that takes a list, modifies it by removing the first and last elements, and returns `None`.\n",
    "\n",
    "What is the difference between `middle` and `chop`? Sketch out the program state or take a look at each in Python Tutor and answer the question in the Markdown cell below."
   ]
  },
  {
   "cell_type": "code",
   "execution_count": 19,
   "metadata": {
    "collapsed": false
   },
   "outputs": [
    {
     "name": "stdout",
     "output_type": "stream",
     "text": [
      "[2, 3, 4, 5, 6]\n"
     ]
    }
   ],
   "source": [
    "def chop (t):\n",
    "    \"\"\"\n",
    "    Removes the first and last element from t\n",
    "    \n",
    "    >>> chop([1,2,3,4])\n",
    "\n",
    "    \"\"\"\n",
    "\n",
    "    del t[0]\n",
    "    del t[len(t)-1]\n",
    "\n",
    "\n",
    "test = [1,2,3,4,5,6,7]\n",
    "chop(test)\n",
    "print (test)\n",
    "    \n",
    "import doctest\n",
    "doctest.run_docstring_examples(chop,globals())"
   ]
  },
  {
   "cell_type": "markdown",
   "metadata": {},
   "source": [
    "While the middle function handles the operations within the framed of the function, the chop function itself modifies the list object. So while the middle function doesn't modify the original list at all, the changes made by the chop function(which is a void function) stay even after the execution of the function."
   ]
  },
  {
   "cell_type": "markdown",
   "metadata": {},
   "source": [
    "### Exercise 10.6 \n",
    "Two words are anagrams if you can rearrange the letters from one to spell the other. Write a function called `is_anagram` that takes two strings and returns `True` if they are anagrams."
   ]
  },
  {
   "cell_type": "code",
   "execution_count": 44,
   "metadata": {
    "collapsed": false
   },
   "outputs": [],
   "source": [
    "def is_anagram (a,b):\n",
    "    \"\"\"\n",
    "    Returns True if string a, b are anagrams.\n",
    "    \n",
    "    >>> is_anagram (\"abc\", \"cba\")\n",
    "    True\n",
    "    \n",
    "    >>> is_anagram (\"ccc\", \"aaa\")\n",
    "    False\n",
    "    \n",
    "    >>> is_anagram (\"William Shakespeare\", \"I am a Weakish Speller\")\n",
    "    True\n",
    "    \"\"\"\n",
    "    \n",
    "    a_list = list(a.lower().replace(\" \", \"\")) #removes all whitespaces\n",
    "    b_list = list(b.lower().replace(\" \", \"\"))\n",
    "    a_list.sort()\n",
    "    b_list.sort()\n",
    "    \n",
    "    if (len(a_list) != len(b_list)):\n",
    "        return False\n",
    "    else:\n",
    "        for i in range(len(a_list)):\n",
    "            if (a_list[i] != b_list[i]):\n",
    "                return False\n",
    "        \n",
    "        return True\n",
    "\n",
    "    \n",
    "import doctest\n",
    "doctest.run_docstring_examples(is_anagram,globals())"
   ]
  },
  {
   "cell_type": "markdown",
   "metadata": {},
   "source": [
    "### Exercise 10.8  \n",
    "The (so-called) Birthday Paradox: <br /><br />\n",
    "1\\. Write a function called `has_duplicates` that takes a list and returns `True` if there is any element that appears more than once. It should not modify the original list.\n",
    "\n",
    "2\\. If there are 23 students in your class, what are the chances that two of you have the same birthday? Put your answer in the Markdown cell below. You can estimate this probability by generating random samples of 23 birthdays and checking for matches. Hint: you can generate random birthdays with the randint function from the [random module](https://docs.python.org/2/library/random.html).\n",
    "\n",
    "You can read about this problem at http://en.wikipedia.org/wiki/Birthday_paradox, and you can download Allen's solution from http://greenteapress.com/thinkpython2/code/birthday.py."
   ]
  },
  {
   "cell_type": "code",
   "execution_count": 94,
   "metadata": {
    "collapsed": false
   },
   "outputs": [
    {
     "name": "stdout",
     "output_type": "stream",
     "text": [
      "0.50743\n"
     ]
    }
   ],
   "source": [
    "def has_duplicates (t):\n",
    "    \"\"\"\n",
    "    Returns True if there are any duplicate elements\n",
    "    Doesn't use sort fuction,\n",
    "    Works for list contaning many types of values, but o(n^2)\n",
    "    \n",
    "    >>> has_duplicates([1,2,3,3,3])\n",
    "    True\n",
    "    \n",
    "    >>> has_duplicates([1,2,3])\n",
    "    False\n",
    "    \n",
    "    >>> has_duplicates([\"adfdasf\",1,\"adfdaf\",2,\"AAA\",[123]])\n",
    "    False\n",
    "    \n",
    "    >>> has_duplicates([\"adfdasf\",1,\"adfdaf\",2,\"AAA\",[123],1])\n",
    "    True\n",
    "    \n",
    "    \"\"\"\n",
    "    for i in range(len(t)):\n",
    "        for j in range(i+1,len(t)):\n",
    "            if(t[i] == t[j]):\n",
    "                return True\n",
    "    \n",
    "    return False\n",
    "\n",
    "\n",
    "student_num = 23\n",
    "num_simulation = 100000 #runs simulation 100000 times\n",
    "counter = 0.0\n",
    "for test in range(num_simulation):\n",
    "    student_birthday = []\n",
    "    for i in range(student_num):\n",
    "        student_birthday.append(random.randint(1,365))\n",
    "        \n",
    "    if(has_duplicates(student_birthday)):\n",
    "        counter = counter + 1\n",
    "    \n",
    "\n",
    "probability = (counter / num_simulation) \n",
    "print(probability)\n",
    "\n",
    "\n",
    "import doctest\n",
    "doctest.run_docstring_examples(has_duplicates,globals())"
   ]
  },
  {
   "cell_type": "markdown",
   "metadata": {},
   "source": [
    "About 50%."
   ]
  },
  {
   "cell_type": "markdown",
   "metadata": {},
   "source": [
    "### Challenge: Exercise 10.10 (optional)\n",
    "\n",
    "You should read [Chapter 9.1](http://www.greenteapress.com/thinkpython2/html/thinkpython2010.html) and do Exercise 1 first.\n",
    "\n",
    "To check whether a word is in the word list, you could use the `in` operator, but it would be relatively slow because it searches through the words in order (try it).\n",
    "\n",
    "Because the words are in alphabetical order, we can speed things up with a bisection search (also known as binary search), which is similar to what you do when you look a word up in the dictionary. You start in the middle and check to see whether the word you are looking for comes before the word in the middle of the list. If so, then you search the first half of the list the same way. Otherwise you search the second half.\n",
    "\n",
    "Either way, you cut the remaining search space in half. If the word list has 113,809 words, it will take about 17 steps to find the word or conclude that it’s not there.\n",
    "\n",
    "Write a function called `bisect` that takes a sorted list and a target value and returns the index of the value in the list, if it’s there, or `None` if it’s not.\n",
    "\n",
    "Or you could read the documentation of the `bisect` module and use that! Solution: http://greenteapress.com/thinkpython2/code/inlist.py."
   ]
  },
  {
   "cell_type": "code",
   "execution_count": 105,
   "metadata": {
    "collapsed": false
   },
   "outputs": [],
   "source": [
    "import bisect\n",
    "\n",
    "def my_bisect(t,a):\n",
    "    \"\"\"\n",
    "    Returns the index of target a in list t\n",
    "    \n",
    "    >>> my_bisect([1,2,3,4],3)\n",
    "    2\n",
    "    \"\"\"\n",
    "    index = bisect.bisect_left(t,a)\n",
    "    if index == len(t):\n",
    "        return None\n",
    "    \n",
    "    if t[index] == a:\n",
    "        return index\n",
    "\n",
    "\n",
    "my_bisect([1,2,3,4,5,6,7,8,9],9)\n",
    "\n",
    "\n",
    "import doctest\n",
    "doctest.run_docstring_examples(my_bisect,globals())\n"
   ]
  },
  {
   "cell_type": "markdown",
   "metadata": {},
   "source": [
    "## Reading Journal feedback\n",
    "\n",
    "Have any comments on this Reading Journal? Feel free to leave them [here](https://goo.gl/forms/hZqCUAi4ir7hVN6x2) and we'll read them when you submit your journal entry. This could include suggestions to improve the exercises, topics you'd like to see covered in class next time, or other feedback.\n",
    "\n",
    "If you have Python questions or run into problems while completing the reading, you should post them to Piazza instead so you can get a quick response before your journal is submitted."
   ]
  }
 ],
 "metadata": {
  "kernelspec": {
   "display_name": "Python 3",
   "language": "python",
   "name": "python3"
  },
  "language_info": {
   "codemirror_mode": {
    "name": "ipython",
    "version": 3
   },
   "file_extension": ".py",
   "mimetype": "text/x-python",
   "name": "python",
   "nbconvert_exporter": "python",
   "pygments_lexer": "ipython3",
   "version": "3.5.2"
  }
 },
 "nbformat": 4,
 "nbformat_minor": 0
}
